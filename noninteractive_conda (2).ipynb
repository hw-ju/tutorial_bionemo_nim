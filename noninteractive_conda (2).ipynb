{
 "cells": [
  {
   "cell_type": "markdown",
   "id": "06100c32-a172-4d49-9523-b6c63e8aad24",
   "metadata": {},
   "source": [
    "# remove conda installed by sudo"
   ]
  },
  {
   "cell_type": "code",
   "execution_count": null,
   "id": "acacc01c-ac74-4ca7-924b-8af1a12247e9",
   "metadata": {},
   "outputs": [],
   "source": [
    "!which conda"
   ]
  },
  {
   "cell_type": "code",
   "execution_count": null,
   "id": "365707c2-70d7-4408-ad50-2c61a9de1714",
   "metadata": {},
   "outputs": [],
   "source": [
    "!sudo rm -rf /usr/local/miniconda /usr/local/anaconda /usr/local/conda /usr/local/bin/conda"
   ]
  },
  {
   "cell_type": "code",
   "execution_count": null,
   "id": "bf3b42f7-e22f-4f5d-be6f-ebc51dc6f943",
   "metadata": {},
   "outputs": [],
   "source": [
    "!sudo rm -rf /usr/local/lib/python*/site-packages/conda*\n",
    "!sudo rm -rf /usr/local/etc/profile.d/conda.sh\n",
    "!sudo rm -rf /usr/local/bin/mamba"
   ]
  },
  {
   "cell_type": "code",
   "execution_count": null,
   "id": "9402ca41-f80c-47c9-8dee-5618d3ef036a",
   "metadata": {},
   "outputs": [],
   "source": [
    "!echo $PATH"
   ]
  },
  {
   "cell_type": "code",
   "execution_count": null,
   "id": "de4ee8a0-a7a7-43b9-93d2-0bc720028a1b",
   "metadata": {},
   "outputs": [],
   "source": [
    "!which conda"
   ]
  },
  {
   "cell_type": "markdown",
   "id": "51291a64-e421-4e9c-906d-0d1ca0c8091e",
   "metadata": {},
   "source": [
    "# install a User-Specific Conda"
   ]
  },
  {
   "cell_type": "code",
   "execution_count": null,
   "id": "ece9d9cb-032a-464e-97ac-9e1877ea961f",
   "metadata": {},
   "outputs": [],
   "source": [
    "import os\n",
    "CURRENTPATH = os.getcwd()\n",
    "COLABFOLDDIR = f\"{CURRENTPATH}/localcolabfold\" \n",
    "print(COLABFOLDDIR)  # Verify the result"
   ]
  },
  {
   "cell_type": "code",
   "execution_count": null,
   "id": "86213813-705f-487b-aae7-050e2f972770",
   "metadata": {},
   "outputs": [],
   "source": [
    "!mkdir -p {COLABFOLDDIR}\n",
    "!ls"
   ]
  },
  {
   "cell_type": "code",
   "execution_count": null,
   "id": "4d28294d-2d2d-416b-8b41-00634c1a5cfa",
   "metadata": {},
   "outputs": [],
   "source": [
    "os.chdir(COLABFOLDDIR)  # Change to the directory"
   ]
  },
  {
   "cell_type": "code",
   "execution_count": null,
   "id": "62000767-4afb-466f-a0e9-3c4a65921731",
   "metadata": {},
   "outputs": [],
   "source": [
    "!pwd"
   ]
  },
  {
   "cell_type": "code",
   "execution_count": null,
   "id": "7e545fbe-9628-42dc-9dcb-464913f95daf",
   "metadata": {},
   "outputs": [],
   "source": [
    "!wget -q -P . https://github.com/conda-forge/miniforge/releases/latest/download/Miniforge3-Linux-x86_64.sh"
   ]
  },
  {
   "cell_type": "code",
   "execution_count": null,
   "id": "b0a48818-541b-4800-9f0c-46c8466ccdbf",
   "metadata": {},
   "outputs": [],
   "source": [
    "!bash ./Miniforge3-Linux-x86_64.sh -b -p \"{COLABFOLDDIR}/conda\""
   ]
  },
  {
   "cell_type": "code",
   "execution_count": null,
   "id": "4b567444-5c6b-4a7f-aa66-cf22855c7a73",
   "metadata": {},
   "outputs": [],
   "source": [
    "!rm Miniforge3-Linux-x86_64.sh"
   ]
  },
  {
   "cell_type": "code",
   "execution_count": null,
   "id": "35859886-8db7-43cb-a642-3bfc1b5663ed",
   "metadata": {},
   "outputs": [],
   "source": [
    "!{COLABFOLDDIR}/conda/bin/conda --version"
   ]
  },
  {
   "cell_type": "code",
   "execution_count": null,
   "id": "6ca74547-2039-43a3-8607-f524f3299aa5",
   "metadata": {},
   "outputs": [],
   "source": [
    "import os\n",
    "os.environ[\"PATH\"] = f\"{COLABFOLDDIR}/conda/bin:\" + os.environ[\"PATH\"]"
   ]
  },
  {
   "cell_type": "code",
   "execution_count": null,
   "id": "2b250cb9-f096-47b2-8edb-e5771a7a0b6e",
   "metadata": {},
   "outputs": [],
   "source": [
    "# Verify conda is now in PATH\n",
    "!which conda"
   ]
  },
  {
   "cell_type": "code",
   "execution_count": null,
   "id": "991e8951-2d3b-4992-9ec1-cdc6e5a1ee61",
   "metadata": {},
   "outputs": [],
   "source": [
    "!conda --version"
   ]
  },
  {
   "cell_type": "code",
   "execution_count": null,
   "id": "fab606c0-dd63-401b-a6a7-e8fd8f65d8ed",
   "metadata": {},
   "outputs": [],
   "source": [
    "!conda update -n base -c conda-forge conda -y"
   ]
  },
  {
   "cell_type": "code",
   "execution_count": null,
   "id": "d079e430-b79a-4cc8-a407-dd54a5204bfa",
   "metadata": {},
   "outputs": [],
   "source": [
    "import os\n",
    "os._exit(00)  # Forces a restart of the Jupyter kernel"
   ]
  },
  {
   "cell_type": "code",
   "execution_count": null,
   "id": "4e68aa76-e6a7-4f46-b37f-c7c1399fca0c",
   "metadata": {},
   "outputs": [],
   "source": [
    "import os\n",
    "CURRENTPATH = os.getcwd()\n",
    "COLABFOLDDIR = f\"{CURRENTPATH}/localcolabfold\" \n",
    "os.environ[\"PATH\"] = f\"{COLABFOLDDIR}/conda/bin:\" + os.environ[\"PATH\"]"
   ]
  },
  {
   "cell_type": "code",
   "execution_count": null,
   "id": "2101c960-601f-433f-90b7-bcf25fb1cb8c",
   "metadata": {},
   "outputs": [],
   "source": [
    "!conda --version"
   ]
  },
  {
   "cell_type": "code",
   "execution_count": null,
   "id": "71930382-1ec0-4b2f-9b8f-4e31fb024999",
   "metadata": {},
   "outputs": [],
   "source": [
    "!which -a conda"
   ]
  },
  {
   "cell_type": "markdown",
   "id": "9a3143fb-8605-4fc7-ad37-40e0c5043d9e",
   "metadata": {},
   "source": [
    "# install conda env"
   ]
  },
  {
   "cell_type": "code",
   "execution_count": null,
   "id": "507165cb-b918-4ace-8c79-9b3703231ff5",
   "metadata": {},
   "outputs": [],
   "source": [
    "!conda create -p \"{COLABFOLDDIR}/colabfold-conda\" -c conda-forge -c bioconda \\\n",
    "    git python=3.10 openmm=8.0.0 pdbfixer kalign2=2.04 hhsuite=3.3.0 mmseqs2 -y\n",
    "\n",
    "# conda create -p \"$COLABFOLDDIR/colabfold-conda\" -c conda-forge -c bioconda \\\n",
    "#     git python=3.10 openmm==8.0.0 pdbfixer \\\n",
    "#     kalign2=2.04 hhsuite=3.3.0 mmseqs2 -y"
   ]
  },
  {
   "cell_type": "code",
   "execution_count": null,
   "id": "d862b8c1-671b-4fc2-98ae-37d7475231ce",
   "metadata": {},
   "outputs": [],
   "source": [
    "!ls -l {COLABFOLDDIR}/colabfold-conda"
   ]
  },
  {
   "cell_type": "code",
   "execution_count": null,
   "id": "c739d866-bdbe-4660-a7c2-1854649253a8",
   "metadata": {},
   "outputs": [],
   "source": [
    "!{COLABFOLDDIR}/colabfold-conda/bin/pip install --no-warn-conflicts \\\n",
    "    \"colabfold[alphafold-minus-jax] @ git+https://github.com/sokrypton/ColabFold\""
   ]
  },
  {
   "cell_type": "code",
   "execution_count": null,
   "id": "a7550242-fd41-4be5-8b8b-611e70c14bd0",
   "metadata": {},
   "outputs": [],
   "source": [
    "!{COLABFOLDDIR}/colabfold-conda/bin/python -c \"import colabfold; print(colabfold.__file__)\""
   ]
  },
  {
   "cell_type": "code",
   "execution_count": null,
   "id": "29057976-aeda-4c55-afdd-1ab38d888363",
   "metadata": {},
   "outputs": [],
   "source": [
    "!{COLABFOLDDIR}/colabfold-conda/bin/pip install \"colabfold[alphafold]\""
   ]
  },
  {
   "cell_type": "code",
   "execution_count": null,
   "id": "e0a72513-db43-44fd-bde2-eea6e918e5bb",
   "metadata": {},
   "outputs": [],
   "source": [
    "!{COLABFOLDDIR}/colabfold-conda/bin/pip install --upgrade \"jax[cuda12]==0.4.35\""
   ]
  },
  {
   "cell_type": "code",
   "execution_count": null,
   "id": "4ee09f55-a411-4641-b584-b812ca6136fd",
   "metadata": {},
   "outputs": [],
   "source": [
    "!{COLABFOLDDIR}/colabfold-conda/bin/pip install --upgrade tensorflow"
   ]
  },
  {
   "cell_type": "code",
   "execution_count": null,
   "id": "a3ecf1c1-7080-485e-97f4-aede9799f6b1",
   "metadata": {},
   "outputs": [],
   "source": [
    "!{COLABFOLDDIR}/colabfold-conda/bin/python -c \"import tensorflow as tf; print(tf.__version__)\""
   ]
  },
  {
   "cell_type": "code",
   "execution_count": null,
   "id": "f80c2a53-23eb-4e60-8bac-f5d70041835f",
   "metadata": {},
   "outputs": [],
   "source": [
    "!{COLABFOLDDIR}/colabfold-conda/bin/python -c \"import tensorflow as tf; print(tf.config.list_physical_devices())\""
   ]
  },
  {
   "cell_type": "code",
   "execution_count": null,
   "id": "912eac95-2adf-4ab2-b8ca-6facd2fa70fa",
   "metadata": {},
   "outputs": [],
   "source": [
    "!{COLABFOLDDIR}/colabfold-conda/bin/pip install silence_tensorflow"
   ]
  },
  {
   "cell_type": "code",
   "execution_count": null,
   "id": "ab1bd570-8461-4f6c-8a64-af8f71df4f4e",
   "metadata": {},
   "outputs": [],
   "source": [
    "import tensorflow as tf"
   ]
  },
  {
   "cell_type": "code",
   "execution_count": null,
   "id": "20b23876-0bab-41bd-8998-7102ba859534",
   "metadata": {},
   "outputs": [],
   "source": [
    "from silence_tensorflow import silence_tensorflow\n",
    "silence_tensorflow()\n",
    "\n",
    "import tensorflow as tf  # Now TensorFlow logs are hidden"
   ]
  },
  {
   "cell_type": "code",
   "execution_count": null,
   "id": "eaf2d75d-a6ac-432d-afe4-83a1b7a7d2e4",
   "metadata": {},
   "outputs": [],
   "source": [
    "!{COLABFOLDDIR}/colabfold-conda/bin/python -c \"from silence_tensorflow import silence_tensorflow; import tensorflow as tf; silence_tensorflow(); print(tf.config.list_physical_devices())\""
   ]
  },
  {
   "cell_type": "code",
   "execution_count": null,
   "id": "4e27adf5-7796-45dc-85a9-db6692f1767f",
   "metadata": {},
   "outputs": [],
   "source": []
  },
  {
   "cell_type": "markdown",
   "id": "28c2e045-e9c4-4cfe-aae3-65decda58ef8",
   "metadata": {},
   "source": [
    "# Download the updater"
   ]
  },
  {
   "cell_type": "code",
   "execution_count": null,
   "id": "33b53d0b-d185-4812-8848-2c52e7ce3974",
   "metadata": {},
   "outputs": [],
   "source": [
    "import os\n",
    "\n",
    "# COLABFOLDDIR = \"/path/to/your/directory\"  # Update this path accordingly\n",
    "UPDATE_SCRIPT_URL = \"https://raw.githubusercontent.com/YoshitakaMo/localcolabfold/main/update_linux.sh\"\n",
    "UPDATE_SCRIPT_PATH = f\"{COLABFOLDDIR}/update_linux.sh\"\n",
    "\n",
    "# Download the updater script\n",
    "!wget -qnc -O {UPDATE_SCRIPT_PATH} {UPDATE_SCRIPT_URL}\n",
    "\n",
    "# Make the script executable\n",
    "!chmod +x {UPDATE_SCRIPT_PATH}"
   ]
  },
  {
   "cell_type": "code",
   "execution_count": null,
   "id": "f7f4244c-a5bf-4b6e-9d3d-b3dab92ada26",
   "metadata": {},
   "outputs": [],
   "source": [
    "!ls"
   ]
  },
  {
   "cell_type": "code",
   "execution_count": null,
   "id": "2c4e2819-a0fc-44b6-b1d5-d1799ed6c017",
   "metadata": {},
   "outputs": [],
   "source": [
    "!cd localcolabfold && ls"
   ]
  },
  {
   "cell_type": "markdown",
   "id": "094635a0-5ba2-4299-98d3-5146c1aef1d4",
   "metadata": {},
   "source": [
    "# SED"
   ]
  },
  {
   "cell_type": "code",
   "execution_count": null,
   "id": "7c35887b-8723-4e58-a637-28a1b4c87d71",
   "metadata": {},
   "outputs": [],
   "source": [
    "COLABFOLD_PATH = f\"{COLABFOLDDIR}/colabfold-conda/lib/python3.10/site-packages/colabfold\""
   ]
  },
  {
   "cell_type": "code",
   "execution_count": null,
   "id": "5b8dcbab-9169-4cf3-bfff-cd3c9ef453ce",
   "metadata": {},
   "outputs": [],
   "source": [
    "!ls {COLABFOLD_PATH}"
   ]
  },
  {
   "cell_type": "code",
   "execution_count": null,
   "id": "2b32df25-3a39-47cb-9440-29a9a3eb6589",
   "metadata": {},
   "outputs": [],
   "source": [
    "# CURRENTPATH = os.getcwd()\n",
    "# COLABFOLDDIR = f\"{CURRENTPATH}/localcolabfold\" \n",
    "\n",
    "# COLABFOLDDIR = \"/path/to/your/directory\"  # Update this path accordingly\n",
    "COLABFOLD_PATH = f\"{COLABFOLDDIR}/colabfold-conda/lib/python3.10/site-packages/colabfold\"\n",
    "\n",
    "# Use 'Agg' for non-GUI backend\n",
    "# !sed -i -e \"s#from matplotlib import pyplot as plt#import matplotlib\\nmatplotlib.use('Agg')\\nimport matplotlib.pyplot as plt#g\" {COLABFOLD_PATH}/plot.py\n",
    "\n",
    "# Modify the default params directory\n",
    "!sed -i -e \"s#appdirs.user_cache_dir(__package__ or \\\"colabfold\\\")#\\\"{COLABFOLDDIR}/colabfold\\\"#g\" {COLABFOLD_PATH}/download.py\n",
    "\n",
    "# Suppress warnings related to tensorflow\n",
    "!sed -i -e \"s#from io import StringIO#from io import StringIO\\nfrom silence_tensorflow import silence_tensorflow\\nsilence_tensorflow()#g\" {COLABFOLD_PATH}/batch.py\n",
    "\n",
    "# Remove cache directory\n",
    "!rm -rf {COLABFOLD_PATH}/__pycache__"
   ]
  },
  {
   "cell_type": "code",
   "execution_count": null,
   "id": "0f288f92-9705-4d99-88a1-c04a63710ffb",
   "metadata": {},
   "outputs": [],
   "source": [
    "# !cat {COLABFOLD_PATH}/plot.py | grep \"matplotlib.use\"\n",
    "!cat {COLABFOLD_PATH}/download.py | grep \"colabfold\"\n",
    "!cat {COLABFOLD_PATH}/batch.py | grep \"silence_tensorflow\"\n"
   ]
  },
  {
   "cell_type": "markdown",
   "id": "a60922ff-cc0a-4c4e-be87-13d06e53831f",
   "metadata": {},
   "source": [
    "# No need? `run` will download again? Download weights "
   ]
  },
  {
   "cell_type": "code",
   "execution_count": null,
   "id": "fcf3473d-afed-41f1-baf2-16535634dae9",
   "metadata": {},
   "outputs": [],
   "source": [
    "# COLABFOLDDIR = \"/path/to/your/directory\"  # Update this path accordingly\n",
    "\n",
    "!{COLABFOLDDIR}/colabfold-conda/bin/python3 -m colabfold.download"
   ]
  },
  {
   "cell_type": "code",
   "execution_count": null,
   "id": "32bed206-d068-4dda-bdf0-38c80b06d6ee",
   "metadata": {},
   "outputs": [],
   "source": [
    "# COLABFOLDDIR = \"/path/to/your/directory\"  # Update this path accordingly\n",
    "os.environ[\"PATH\"] = f\"{COLABFOLDDIR}/colabfold-conda/bin:\" + os.environ[\"PATH\"]\n",
    "\n",
    "# Verify that colabfold_batch is now accessible\n",
    "!which colabfold_batch"
   ]
  },
  {
   "cell_type": "code",
   "execution_count": null,
   "id": "c15c9b31-1593-4252-823a-11e7c67bf5ff",
   "metadata": {},
   "outputs": [],
   "source": [
    "!colabfold_batch --help"
   ]
  },
  {
   "cell_type": "markdown",
   "id": "bb07d250-f7c2-4198-96b6-f577fba91bb9",
   "metadata": {},
   "source": [
    "# UNSUCCESSFUL use the conda env, ipython kernel"
   ]
  },
  {
   "cell_type": "code",
   "execution_count": null,
   "id": "086d5391-4aa2-4161-825e-16c2ad32007b",
   "metadata": {},
   "outputs": [],
   "source": [
    "# Add ${COLABFOLDDIR}/colabfold-conda/bin to your PATH environment variable to run 'colabfold_batch'\n",
    "# COLABFOLDDIR = \"/path/to/your/directory\"  # Update this path accordingly\n",
    "os.environ[\"PATH\"] = f\"{COLABFOLDDIR}/colabfold-conda/bin:\" + os.environ[\"PATH\"]\n",
    "\n",
    "# Verify that colabfold_batch is now accessible\n",
    "!which colabfold_batch"
   ]
  },
  {
   "cell_type": "code",
   "execution_count": null,
   "id": "00ed6e0c-708e-4dfd-85bd-de2c1577dda7",
   "metadata": {},
   "outputs": [],
   "source": [
    "!colabfold_batch --help"
   ]
  },
  {
   "cell_type": "code",
   "execution_count": null,
   "id": "170ffb60-a4dc-4cb8-8edf-96de35bdb163",
   "metadata": {},
   "outputs": [],
   "source": [
    "# Step 1: Find the Conda Environment Path\n",
    "# COLABFOLDDIR = \"/path/to/your/directory\"  # Update this path\n",
    "CONDA_ENV_PATH = f\"{COLABFOLDDIR}/colabfold-conda\"\n",
    "\n",
    "# Verify that the Conda environment exists\n",
    "!ls {CONDA_ENV_PATH}/bin/python"
   ]
  },
  {
   "cell_type": "code",
   "execution_count": null,
   "id": "ac22ffe7-67b5-462e-b191-a2b89f687335",
   "metadata": {},
   "outputs": [],
   "source": [
    "!{CONDA_ENV_PATH}/bin/python -m pip install ipykernel"
   ]
  },
  {
   "cell_type": "code",
   "execution_count": null,
   "id": "653630aa-d074-47a4-a54a-a71b01c30e85",
   "metadata": {},
   "outputs": [],
   "source": [
    "# Step 2: Add the Conda Environment to Jupyter\n",
    "!{CONDA_ENV_PATH}/bin/python -m ipykernel install --user --name=colabfold-conda --display-name \"Python (ColabFold)\""
   ]
  },
  {
   "cell_type": "code",
   "execution_count": null,
   "id": "2932627f-dc71-48b5-99e6-278ff49ff73e",
   "metadata": {},
   "outputs": [],
   "source": [
    "# Step 3: Restart Jupyter Notebook and Select the New Kernel\n",
    "# Restart Jupyter Notebook (Kernel > Restart).\n",
    "# Go to Kernel > Change Kernel.\n",
    "# Select Python (ColabFold)."
   ]
  },
  {
   "cell_type": "code",
   "execution_count": null,
   "id": "384e7fc8-08ca-4a8b-9b24-d2c5011ee3de",
   "metadata": {},
   "outputs": [],
   "source": [
    "# Step 4: Verify the Correct Python Path\n",
    "!which python"
   ]
  },
  {
   "cell_type": "code",
   "execution_count": null,
   "id": "fadf1b5c-0ee5-4ea2-8f02-93367dc53de9",
   "metadata": {},
   "outputs": [],
   "source": [
    "!jupyter kernelspec list\n"
   ]
  },
  {
   "cell_type": "code",
   "execution_count": null,
   "id": "a4ce6173-1a0a-4835-80ad-7729ddc6a1ed",
   "metadata": {},
   "outputs": [],
   "source": [
    "import os\n",
    "CURRENTPATH = os.getcwd()\n",
    "COLABFOLDDIR = f\"{CURRENTPATH}/localcolabfold\" \n",
    "CONDA_ENV_PATH = f\"{COLABFOLDDIR}/colabfold-conda\"\n",
    "!{CONDA_ENV_PATH}/bin/python --version"
   ]
  },
  {
   "cell_type": "code",
   "execution_count": null,
   "id": "301f7d0f-b466-4569-97ef-f81f46f9320b",
   "metadata": {},
   "outputs": [],
   "source": [
    "import os\n",
    "os.environ[\"PATH\"] = f\"{CONDA_ENV_PATH}/bin:\" + os.environ[\"PATH\"]\n",
    "\n",
    "# Verify that Python is now correctly set\n",
    "!which python\n",
    "!python --version"
   ]
  },
  {
   "cell_type": "code",
   "execution_count": null,
   "id": "d31f5013-5e3e-4666-af27-13f5dba75136",
   "metadata": {},
   "outputs": [],
   "source": [
    "!{CONDA_ENV_PATH}/bin/pip install --upgrade ipykernel jupyter"
   ]
  },
  {
   "cell_type": "code",
   "execution_count": null,
   "id": "b656d573-80c2-41cd-8bc5-ff239c8af373",
   "metadata": {},
   "outputs": [],
   "source": [
    "!{CONDA_ENV_PATH}/bin/python -m ipykernel install --user --name=colabfold-conda --display-name \"Python (ColabFold)\""
   ]
  },
  {
   "cell_type": "code",
   "execution_count": null,
   "id": "d3e7f7b9-6ece-456a-b795-17b25bfebbf1",
   "metadata": {},
   "outputs": [],
   "source": [
    "# Restart Jupyter Notebook (Kernel > Restart).\n",
    "# Change Kernel: Go to Kernel > Change Kernel and select Python (ColabFold)."
   ]
  },
  {
   "cell_type": "code",
   "execution_count": null,
   "id": "722dda22-7eb1-4b14-8685-fad38ce40ac6",
   "metadata": {},
   "outputs": [],
   "source": [
    "!which python\n",
    "!python --version"
   ]
  },
  {
   "cell_type": "code",
   "execution_count": null,
   "id": "5e273c6a-28a9-490d-8fca-5cd403dc2e94",
   "metadata": {},
   "outputs": [],
   "source": [
    "# restart jupyter lab"
   ]
  },
  {
   "cell_type": "code",
   "execution_count": null,
   "id": "867d9b48-022b-467b-8443-dc587b2d3a20",
   "metadata": {},
   "outputs": [],
   "source": [
    "!which python\n",
    "!python --version"
   ]
  },
  {
   "cell_type": "markdown",
   "id": "b697e8d7-bb97-4bc7-87eb-3c0d156d694f",
   "metadata": {},
   "source": [
    "# RUN WITHOUT IPYTHON KERNEL, JUST USE CONDA ENV"
   ]
  },
  {
   "cell_type": "code",
   "execution_count": null,
   "id": "5275ac5d-2777-4892-82d4-40c8f2e32903",
   "metadata": {},
   "outputs": [],
   "source": [
    "import os\n",
    "CURRENTPATH = os.getcwd()\n",
    "COLABFOLDDIR = f\"{CURRENTPATH}/localcolabfold\" \n",
    "CONDA_ENV_PATH = f\"{COLABFOLDDIR}/colabfold-conda\"\n",
    "\n",
    "# Prepend the Conda environment's bin directory to PATH\n",
    "os.environ[\"PATH\"] = f\"{CONDA_ENV_PATH}/bin:\" + os.environ[\"PATH\"]"
   ]
  },
  {
   "cell_type": "code",
   "execution_count": null,
   "id": "8f56be3c-2f12-478b-9f6f-a8d0acec72b4",
   "metadata": {},
   "outputs": [],
   "source": [
    "# Verify that Python now uses the Conda environment\n",
    "!which python\n",
    "!python --version"
   ]
  },
  {
   "cell_type": "code",
   "execution_count": null,
   "id": "ac207566-31b9-425a-9c1f-6b131a821100",
   "metadata": {},
   "outputs": [],
   "source": [
    "#@title Input protein sequence(s), then hit `Runtime` -> `Run all`\n",
    "import os\n",
    "import re\n",
    "import hashlib\n",
    "import random\n",
    "\n",
    "from sys import version_info\n",
    "python_version = f\"{version_info.major}.{version_info.minor}\"\n",
    "\n",
    "def add_hash(x,y):\n",
    "  return x+\"_\"+hashlib.sha1(y.encode()).hexdigest()[:5]\n",
    "\n",
    "query_sequence = 'PIAQIHILEGRSDEQKETLIREVSEAISRSLDAPLTSVRVIITEMAKGHFGIGGELASK' #@param {type:\"string\"}\n",
    "#@markdown  - Use `:` to specify inter-protein chainbreaks for **modeling complexes** (supports homo- and hetro-oligomers). For example **PI...SK:PI...SK** for a homodimer\n",
    "jobname = 'test' #@param {type:\"string\"}\n",
    "# number of models to use\n",
    "num_relax = 5 #@param [0, 1, 5] {type:\"raw\"}\n",
    "#@markdown - specify how many of the top ranked structures to relax using amber\n",
    "template_mode = \"pdb100\" #@param [\"none\", \"pdb100\",\"custom\"]\n",
    "#@markdown - `none` = no template information is used. `pdb100` = detect templates in pdb100 (see [notes](#pdb100)). `custom` - upload and search own templates (PDB or mmCIF format, see [notes](#custom_templates))\n",
    "\n",
    "use_amber = num_relax > 0\n",
    "\n",
    "# remove whitespaces\n",
    "query_sequence = \"\".join(query_sequence.split())\n",
    "\n",
    "basejobname = \"\".join(jobname.split())\n",
    "basejobname = re.sub(r'\\W+', '', basejobname)\n",
    "jobname = add_hash(basejobname, query_sequence)\n",
    "\n",
    "# check if directory with jobname exists\n",
    "def check(folder):\n",
    "  if os.path.exists(folder):\n",
    "    return False\n",
    "  else:\n",
    "    return True\n",
    "if not check(jobname):\n",
    "  n = 0\n",
    "  while not check(f\"{jobname}_{n}\"): n += 1\n",
    "  jobname = f\"{jobname}_{n}\"\n",
    "\n",
    "# make directory to save results\n",
    "os.makedirs(jobname, exist_ok=True)\n",
    "\n",
    "# save queries\n",
    "queries_path = os.path.join(jobname, f\"{jobname}.csv\")\n",
    "with open(queries_path, \"w\") as text_file:\n",
    "  text_file.write(f\"id,sequence\\n{jobname},{query_sequence}\")\n",
    "\n",
    "if template_mode == \"pdb100\":\n",
    "  use_templates = True\n",
    "  custom_template_path = None\n",
    "elif template_mode == \"custom\":\n",
    "  custom_template_path = os.path.join(jobname,f\"template\")\n",
    "  os.makedirs(custom_template_path, exist_ok=True)\n",
    "  uploaded = files.upload()\n",
    "  use_templates = True\n",
    "  for fn in uploaded.keys():\n",
    "    os.rename(fn,os.path.join(custom_template_path,fn))\n",
    "else:\n",
    "  custom_template_path = None\n",
    "  use_templates = False\n",
    "\n",
    "print(\"jobname\",jobname)\n",
    "print(\"sequence\",query_sequence)\n",
    "print(\"length\",len(query_sequence.replace(\":\",\"\")))"
   ]
  },
  {
   "cell_type": "code",
   "execution_count": null,
   "id": "912e749c-7eb6-47d9-8a72-400fc134b3a5",
   "metadata": {},
   "outputs": [],
   "source": [
    "#@markdown ### MSA options (custom MSA upload, single sequence, pairing mode)\n",
    "msa_mode = \"mmseqs2_uniref_env\" #@param [\"mmseqs2_uniref_env\", \"mmseqs2_uniref\",\"single_sequence\",\"custom\"]\n",
    "pair_mode = \"unpaired_paired\" #@param [\"unpaired_paired\",\"paired\",\"unpaired\"] {type:\"string\"}\n",
    "#@markdown - \"unpaired_paired\" = pair sequences from same species + unpaired MSA, \"unpaired\" = seperate MSA for each chain, \"paired\" - only use paired sequences.\n",
    "\n",
    "# decide which a3m to use\n",
    "if \"mmseqs2\" in msa_mode:\n",
    "  a3m_file = os.path.join(jobname,f\"{jobname}.a3m\")\n",
    "\n",
    "elif msa_mode == \"custom\":\n",
    "  a3m_file = os.path.join(jobname,f\"{jobname}.custom.a3m\")\n",
    "  if not os.path.isfile(a3m_file):\n",
    "    custom_msa_dict = files.upload()\n",
    "    custom_msa = list(custom_msa_dict.keys())[0]\n",
    "    header = 0\n",
    "    import fileinput\n",
    "    for line in fileinput.FileInput(custom_msa,inplace=1):\n",
    "      if line.startswith(\">\"):\n",
    "         header = header + 1\n",
    "      if not line.rstrip():\n",
    "        continue\n",
    "      if line.startswith(\">\") == False and header == 1:\n",
    "         query_sequence = line.rstrip()\n",
    "      print(line, end='')\n",
    "\n",
    "    os.rename(custom_msa, a3m_file)\n",
    "    queries_path=a3m_file\n",
    "    print(f\"moving {custom_msa} to {a3m_file}\")\n",
    "\n",
    "else:\n",
    "  a3m_file = os.path.join(jobname,f\"{jobname}.single_sequence.a3m\")\n",
    "  with open(a3m_file, \"w\") as text_file:\n",
    "    text_file.write(\">1\\n%s\" % query_sequence)"
   ]
  },
  {
   "cell_type": "code",
   "execution_count": null,
   "id": "f17ae8c2-beba-4054-8cd0-926c137e0339",
   "metadata": {},
   "outputs": [],
   "source": [
    "#@markdown ### Advanced settings\n",
    "model_type = \"auto\" #@param [\"auto\", \"alphafold2_ptm\", \"alphafold2_multimer_v1\", \"alphafold2_multimer_v2\", \"alphafold2_multimer_v3\", \"deepfold_v1\", \"alphafold2\"]\n",
    "#@markdown - if `auto` selected, will use `alphafold2_ptm` for monomer prediction and `alphafold2_multimer_v3` for complex prediction.\n",
    "#@markdown Any of the mode_types can be used (regardless if input is monomer or complex).\n",
    "num_recycles = \"3\" #@param [\"auto\", \"0\", \"1\", \"3\", \"6\", \"12\", \"24\", \"48\"]\n",
    "#@markdown - if `auto` selected, will use `num_recycles=20` if `model_type=alphafold2_multimer_v3`, else `num_recycles=3` .\n",
    "recycle_early_stop_tolerance = \"auto\" #@param [\"auto\", \"0.0\", \"0.5\", \"1.0\"]\n",
    "#@markdown - if `auto` selected, will use `tol=0.5` if `model_type=alphafold2_multimer_v3` else `tol=0.0`.\n",
    "relax_max_iterations = 200 #@param [0, 200, 2000] {type:\"raw\"}\n",
    "#@markdown - max amber relax iterations, `0` = unlimited (AlphaFold2 default, can take very long)\n",
    "pairing_strategy = \"greedy\" #@param [\"greedy\", \"complete\"] {type:\"string\"}\n",
    "#@markdown - `greedy` = pair any taxonomically matching subsets, `complete` = all sequences have to match in one line.\n",
    "calc_extra_ptm = False #@param {type:\"boolean\"}\n",
    "#@markdown - return pairwise chain iptm/actifptm\n",
    "\n",
    "#@markdown #### Sample settings\n",
    "#@markdown -  enable dropouts and increase number of seeds to sample predictions from uncertainty of the model.\n",
    "#@markdown -  decrease `max_msa` to increase uncertainity\n",
    "max_msa = \"auto\" #@param [\"auto\", \"512:1024\", \"256:512\", \"64:128\", \"32:64\", \"16:32\"]\n",
    "num_seeds = 1 #@param [1,2,4,8,16] {type:\"raw\"}\n",
    "use_dropout = False #@param {type:\"boolean\"}\n",
    "\n",
    "num_recycles = None if num_recycles == \"auto\" else int(num_recycles)\n",
    "recycle_early_stop_tolerance = None if recycle_early_stop_tolerance == \"auto\" else float(recycle_early_stop_tolerance)\n",
    "if max_msa == \"auto\": max_msa = None\n",
    "\n",
    "#@markdown #### Save settings\n",
    "save_all = False #@param {type:\"boolean\"}\n",
    "save_recycles = False #@param {type:\"boolean\"}\n",
    "save_to_google_drive = False #@param {type:\"boolean\"}\n",
    "#@markdown -  if the save_to_google_drive option was selected, the result zip will be uploaded to your Google Drive\n",
    "dpi = 200 #@param {type:\"integer\"}\n",
    "#@markdown - set dpi for image resolution\n",
    "\n",
    "if save_to_google_drive:\n",
    "  from pydrive2.drive import GoogleDrive\n",
    "  from pydrive2.auth import GoogleAuth\n",
    "  from google.colab import auth\n",
    "  from oauth2client.client import GoogleCredentials\n",
    "  auth.authenticate_user()\n",
    "  gauth = GoogleAuth()\n",
    "  gauth.credentials = GoogleCredentials.get_application_default()\n",
    "  drive = GoogleDrive(gauth)\n",
    "  print(\"You are logged into Google Drive and are good to go!\")\n",
    "\n",
    "#@markdown Don't forget to hit `Runtime` -> `Run all` after updating the form."
   ]
  },
  {
   "cell_type": "markdown",
   "id": "3593d1dd-6b76-4c84-bffe-0c788dce6dae",
   "metadata": {},
   "source": [
    "# run prediction"
   ]
  },
  {
   "cell_type": "code",
   "execution_count": null,
   "id": "f71c7077-4a74-4a1d-8e0b-aa8e1f44d522",
   "metadata": {},
   "outputs": [],
   "source": [
    "!sudo apt update && sudo apt install -y zip"
   ]
  },
  {
   "cell_type": "code",
   "execution_count": null,
   "id": "982d5b55-bf41-46ca-bb98-667c9b8e9903",
   "metadata": {},
   "outputs": [],
   "source": [
    "!zip --version"
   ]
  },
  {
   "cell_type": "code",
   "execution_count": null,
   "id": "6e10baaf-44b0-4f92-ac9e-f5a02a912349",
   "metadata": {},
   "outputs": [],
   "source": [
    "#@title Run Prediction\n",
    "display_images = True #@param {type:\"boolean\"}\n",
    "\n",
    "import sys\n",
    "import warnings\n",
    "warnings.simplefilter(action='ignore', category=FutureWarning)\n",
    "from Bio import BiopythonDeprecationWarning\n",
    "warnings.simplefilter(action='ignore', category=BiopythonDeprecationWarning)\n",
    "from pathlib import Path\n",
    "from colabfold.download import download_alphafold_params, default_data_dir\n",
    "from colabfold.utils import setup_logging\n",
    "from colabfold.batch import get_queries, run, set_model_type\n",
    "from colabfold.plot import plot_msa_v2\n",
    "\n",
    "import os\n",
    "import numpy as np\n",
    "try:\n",
    "  K80_chk = os.popen('nvidia-smi | grep \"Tesla K80\" | wc -l').read()\n",
    "except:\n",
    "  K80_chk = \"0\"\n",
    "  pass\n",
    "if \"1\" in K80_chk:\n",
    "  print(\"WARNING: found GPU Tesla K80: limited to total length < 1000\")\n",
    "  if \"TF_FORCE_UNIFIED_MEMORY\" in os.environ:\n",
    "    del os.environ[\"TF_FORCE_UNIFIED_MEMORY\"]\n",
    "  if \"XLA_PYTHON_CLIENT_MEM_FRACTION\" in os.environ:\n",
    "    del os.environ[\"XLA_PYTHON_CLIENT_MEM_FRACTION\"]\n",
    "\n",
    "from colabfold.colabfold import plot_protein\n",
    "from pathlib import Path\n",
    "import matplotlib.pyplot as plt\n",
    "\n",
    "# For some reason we need that to get pdbfixer to import\n",
    "if use_amber and f\"/usr/local/lib/python{python_version}/site-packages/\" not in sys.path:\n",
    "    sys.path.insert(0, f\"/usr/local/lib/python{python_version}/site-packages/\")\n",
    "\n",
    "def input_features_callback(input_features):\n",
    "  if display_images:\n",
    "    plot_msa_v2(input_features)\n",
    "    plt.show()\n",
    "    plt.close()\n",
    "\n",
    "def prediction_callback(protein_obj, length,\n",
    "                        prediction_result, input_features, mode):\n",
    "  model_name, relaxed = mode\n",
    "  if not relaxed:\n",
    "    if display_images:\n",
    "      fig = plot_protein(protein_obj, Ls=length, dpi=150)\n",
    "      plt.show()\n",
    "      plt.close()\n",
    "\n",
    "result_dir = jobname\n",
    "log_filename = os.path.join(jobname,\"log.txt\")\n",
    "setup_logging(Path(log_filename))\n",
    "\n",
    "queries, is_complex = get_queries(queries_path)\n",
    "model_type = set_model_type(is_complex, model_type)\n",
    "\n",
    "if \"multimer\" in model_type and max_msa is not None:\n",
    "  use_cluster_profile = False\n",
    "else:\n",
    "  use_cluster_profile = True\n",
    "\n",
    "download_alphafold_params(model_type, Path(\".\"))\n",
    "results = run(\n",
    "    queries=queries,\n",
    "    result_dir=result_dir,\n",
    "    use_templates=use_templates,\n",
    "    custom_template_path=custom_template_path,\n",
    "    num_relax=num_relax,\n",
    "    msa_mode=msa_mode,\n",
    "    model_type=model_type,\n",
    "    num_models=5,\n",
    "    num_recycles=num_recycles,\n",
    "    relax_max_iterations=relax_max_iterations,\n",
    "    recycle_early_stop_tolerance=recycle_early_stop_tolerance,\n",
    "    num_seeds=num_seeds,\n",
    "    use_dropout=use_dropout,\n",
    "    model_order=[1,2,3,4,5],\n",
    "    is_complex=is_complex,\n",
    "    data_dir=Path(\".\"),\n",
    "    keep_existing_results=False,\n",
    "    rank_by=\"auto\",\n",
    "    pair_mode=pair_mode,\n",
    "    pairing_strategy=pairing_strategy,\n",
    "    stop_at_score=float(100),\n",
    "    prediction_callback=prediction_callback,\n",
    "    dpi=dpi,\n",
    "    zip_results=False,\n",
    "    save_all=save_all,\n",
    "    max_msa=max_msa,\n",
    "    use_cluster_profile=use_cluster_profile,\n",
    "    input_features_callback=input_features_callback,\n",
    "    save_recycles=save_recycles,\n",
    "    user_agent=\"colabfold/google-colab-main\",\n",
    "    calc_extra_ptm=calc_extra_ptm,\n",
    ")\n",
    "results_zip = f\"{jobname}.result.zip\"\n",
    "os.system(f\"zip -r {results_zip} {jobname}\")"
   ]
  },
  {
   "cell_type": "code",
   "execution_count": null,
   "id": "fa8105d4-3480-4835-998c-f30e1437e5b5",
   "metadata": {},
   "outputs": [],
   "source": [
    "#@title Display 3D structure {run: \"auto\"}\n",
    "import py3Dmol\n",
    "import glob\n",
    "import matplotlib.pyplot as plt\n",
    "from colabfold.colabfold import plot_plddt_legend\n",
    "from colabfold.colabfold import pymol_color_list, alphabet_list\n",
    "rank_num = 1 #@param [\"1\", \"2\", \"3\", \"4\", \"5\"] {type:\"raw\"}\n",
    "color = \"lDDT\" #@param [\"chain\", \"lDDT\", \"rainbow\"]\n",
    "show_sidechains = False #@param {type:\"boolean\"}\n",
    "show_mainchains = False #@param {type:\"boolean\"}\n",
    "\n",
    "tag = results[\"rank\"][0][rank_num - 1]\n",
    "jobname_prefix = \".custom\" if msa_mode == \"custom\" else \"\"\n",
    "pdb_filename = f\"{jobname}/{jobname}{jobname_prefix}_unrelaxed_{tag}.pdb\"\n",
    "pdb_file = glob.glob(pdb_filename)\n",
    "\n",
    "def show_pdb(rank_num=1, show_sidechains=False, show_mainchains=False, color=\"lDDT\"):\n",
    "  model_name = f\"rank_{rank_num}\"\n",
    "  view = py3Dmol.view(js='https://3dmol.org/build/3Dmol.js',)\n",
    "  view.addModel(open(pdb_file[0],'r').read(),'pdb')\n",
    "\n",
    "  if color == \"lDDT\":\n",
    "    view.setStyle({'cartoon': {'colorscheme': {'prop':'b','gradient': 'roygb','min':50,'max':90}}})\n",
    "  elif color == \"rainbow\":\n",
    "    view.setStyle({'cartoon': {'color':'spectrum'}})\n",
    "  elif color == \"chain\":\n",
    "    chains = len(queries[0][1]) + 1 if is_complex else 1\n",
    "    for n,chain,color in zip(range(chains),alphabet_list,pymol_color_list):\n",
    "       view.setStyle({'chain':chain},{'cartoon': {'color':color}})\n",
    "\n",
    "  if show_sidechains:\n",
    "    BB = ['C','O','N']\n",
    "    view.addStyle({'and':[{'resn':[\"GLY\",\"PRO\"],'invert':True},{'atom':BB,'invert':True}]},\n",
    "                        {'stick':{'colorscheme':f\"WhiteCarbon\",'radius':0.3}})\n",
    "    view.addStyle({'and':[{'resn':\"GLY\"},{'atom':'CA'}]},\n",
    "                        {'sphere':{'colorscheme':f\"WhiteCarbon\",'radius':0.3}})\n",
    "    view.addStyle({'and':[{'resn':\"PRO\"},{'atom':['C','O'],'invert':True}]},\n",
    "                        {'stick':{'colorscheme':f\"WhiteCarbon\",'radius':0.3}})\n",
    "  if show_mainchains:\n",
    "    BB = ['C','O','N','CA']\n",
    "    view.addStyle({'atom':BB},{'stick':{'colorscheme':f\"WhiteCarbon\",'radius':0.3}})\n",
    "\n",
    "  view.zoomTo()\n",
    "  return view\n",
    "\n",
    "show_pdb(rank_num, show_sidechains, show_mainchains, color).show()\n",
    "if color == \"lDDT\":\n",
    "  plot_plddt_legend().show()"
   ]
  },
  {
   "cell_type": "code",
   "execution_count": null,
   "id": "c94191c8-847b-4d39-b65e-caa27dadd17e",
   "metadata": {},
   "outputs": [],
   "source": []
  },
  {
   "cell_type": "code",
   "execution_count": null,
   "id": "066129f0-0a91-4897-a582-8986fd07adae",
   "metadata": {},
   "outputs": [],
   "source": [
    "# check the exact download path inside Python:\n",
    "from colabfold.download import default_data_dir\n",
    "print(default_data_dir)\n"
   ]
  },
  {
   "cell_type": "code",
   "execution_count": null,
   "id": "ea20229f-a581-4d34-8cf7-5a7648428456",
   "metadata": {},
   "outputs": [],
   "source": [
    "#  check if JAX is running on GPU\n",
    "import jax\n",
    "print(\"JAX Backend:\", jax.extend.backend.get_backend().platform)"
   ]
  },
  {
   "cell_type": "code",
   "execution_count": null,
   "id": "55cbed2c-7d76-48eb-864e-0cbb261623c7",
   "metadata": {},
   "outputs": [],
   "source": [
    "print(\"Available JAX Devices:\", jax.devices())"
   ]
  },
  {
   "cell_type": "code",
   "execution_count": null,
   "id": "d3ef3680-b219-4c06-882e-572d72f367bc",
   "metadata": {},
   "outputs": [],
   "source": [
    "# Check if JAX Operations Run on GPU\n",
    "import jax.numpy as jnp\n",
    "\n",
    "x = jnp.ones((1000, 1000))  # Create a JAX array\n",
    "print(\"JAX computation device:\", x.device)"
   ]
  },
  {
   "cell_type": "code",
   "execution_count": null,
   "id": "e646821a-a5eb-46a7-a767-ba66b899fb58",
   "metadata": {},
   "outputs": [],
   "source": [
    "import jax"
   ]
  },
  {
   "cell_type": "code",
   "execution_count": null,
   "id": "ec4b07ed-4dcb-426b-8871-fdce5b2dba38",
   "metadata": {},
   "outputs": [],
   "source": [
    "COLABFOLD_PATH = f\"{COLABFOLDDIR}/colabfold-conda/lib/python3.10/site-packages/colabfold\"\n",
    "!sed -i -e \"s#import matplotlib\\nmatplotlib.use('Agg')\\nimport matplotlib.pyplot as plt#from matplotlib import pyplot as plt#g\" {COLABFOLD_PATH}/plot.py"
   ]
  },
  {
   "cell_type": "code",
   "execution_count": null,
   "id": "9abb82e5-7df3-4073-b63e-7a09b74dada0",
   "metadata": {},
   "outputs": [],
   "source": [
    "!grep \"pyplot as plt\" {COLABFOLD_PATH}/plot.py"
   ]
  },
  {
   "cell_type": "code",
   "execution_count": null,
   "id": "b612ca3a-fedf-4537-b6ff-6f078f1bed68",
   "metadata": {},
   "outputs": [],
   "source": [
    "import os\n",
    "import shutil\n",
    "\n",
    "CURRENTPATH = os.getcwd()\n",
    "COLABFOLDDIR = f\"{CURRENTPATH}/localcolabfold\" \n",
    "# COLABFOLD_PATH = \"/path/to/your/directory/colabfold-conda/lib/python3.10/site-packages/colabfold\"\n",
    "COLABFOLD_PATH = f\"{COLABFOLDDIR}/colabfold-conda/lib/python3.10/site-packages/colabfold\"\n",
    "\n",
    "# Remove Python's cached compiled files\n",
    "cache_dir = os.path.join(COLABFOLD_PATH, \"__pycache__\")\n",
    "if os.path.exists(cache_dir):\n",
    "    shutil.rmtree(cache_dir)\n",
    "\n",
    "print(\"Cache cleared!\")"
   ]
  },
  {
   "cell_type": "code",
   "execution_count": null,
   "id": "22c2caed-9c19-4079-ac37-f3a4a3df9f19",
   "metadata": {},
   "outputs": [],
   "source": [
    "import os\n",
    "os._exit(00)"
   ]
  },
  {
   "cell_type": "code",
   "execution_count": null,
   "id": "c8635152-dadc-4d97-886e-128ba3495e65",
   "metadata": {},
   "outputs": [],
   "source": []
  }
 ],
 "metadata": {
  "kernelspec": {
   "display_name": "Python (ColabFold)",
   "language": "python",
   "name": "colabfold-conda"
  },
  "language_info": {
   "codemirror_mode": {
    "name": "ipython",
    "version": 3
   },
   "file_extension": ".py",
   "mimetype": "text/x-python",
   "name": "python",
   "nbconvert_exporter": "python",
   "pygments_lexer": "ipython3",
   "version": "3.10.16"
  }
 },
 "nbformat": 4,
 "nbformat_minor": 5
}
